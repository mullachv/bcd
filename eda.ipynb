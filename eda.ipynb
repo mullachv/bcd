{
 "cells": [
  {
   "cell_type": "markdown",
   "metadata": {},
   "source": [
    "# Import Necessary libraries"
   ]
  },
  {
   "cell_type": "code",
   "execution_count": 85,
   "metadata": {
    "collapsed": true
   },
   "outputs": [],
   "source": [
    "import numpy as np\n",
    "import matplotlib.pyplot as plt\n",
    "import pandas as pd\n",
    "import seaborn as sns\n",
    "from sklearn.utils import resample, shuffle\n",
    "from sklearn.linear_model import LogisticRegression\n",
    "from sklearn.metrics import confusion_matrix, accuracy_score, roc_auc_score, roc_curve\n",
    "from sklearn.preprocessing import StandardScaler\n",
    "from textwrap import wrap\n",
    "from sklearn.manifold import TSNE\n",
    "\n",
    "%matplotlib inline\n"
   ]
  },
  {
   "cell_type": "markdown",
   "metadata": {},
   "source": [
    "# Import Raw Data\n",
    "View a few records. Notice that the label is the 'Class' column\n",
    "- '4' is malignant\n",
    "- '2' is benign\n"
   ]
  },
  {
   "cell_type": "code",
   "execution_count": 86,
   "metadata": {},
   "outputs": [
    {
     "data": {
      "text/html": [
       "<div>\n",
       "<style scoped>\n",
       "    .dataframe tbody tr th:only-of-type {\n",
       "        vertical-align: middle;\n",
       "    }\n",
       "\n",
       "    .dataframe tbody tr th {\n",
       "        vertical-align: top;\n",
       "    }\n",
       "\n",
       "    .dataframe thead th {\n",
       "        text-align: right;\n",
       "    }\n",
       "</style>\n",
       "<table border=\"1\" class=\"dataframe\">\n",
       "  <thead>\n",
       "    <tr style=\"text-align: right;\">\n",
       "      <th></th>\n",
       "      <th>Index</th>\n",
       "      <th>ID</th>\n",
       "      <th>Clump Thickness</th>\n",
       "      <th>Uniformity of Cell Size</th>\n",
       "      <th>Uniformity of Cell Shape</th>\n",
       "      <th>Marginal Adhesion</th>\n",
       "      <th>Single Epithelial Cell Size</th>\n",
       "      <th>Bare Nuclei</th>\n",
       "      <th>Bland Chromatin</th>\n",
       "      <th>Normal Nucleoli</th>\n",
       "      <th>Mitoses</th>\n",
       "      <th>Class</th>\n",
       "    </tr>\n",
       "  </thead>\n",
       "  <tbody>\n",
       "    <tr>\n",
       "      <th>0</th>\n",
       "      <td>0</td>\n",
       "      <td>1241035</td>\n",
       "      <td>7</td>\n",
       "      <td>8</td>\n",
       "      <td>3</td>\n",
       "      <td>7</td>\n",
       "      <td>4</td>\n",
       "      <td>5</td>\n",
       "      <td>7</td>\n",
       "      <td>8</td>\n",
       "      <td>2</td>\n",
       "      <td>4</td>\n",
       "    </tr>\n",
       "    <tr>\n",
       "      <th>1</th>\n",
       "      <td>1</td>\n",
       "      <td>1107684</td>\n",
       "      <td>6</td>\n",
       "      <td>10</td>\n",
       "      <td>5</td>\n",
       "      <td>5</td>\n",
       "      <td>4</td>\n",
       "      <td>10</td>\n",
       "      <td>6</td>\n",
       "      <td>10</td>\n",
       "      <td>1</td>\n",
       "      <td>4</td>\n",
       "    </tr>\n",
       "    <tr>\n",
       "      <th>2</th>\n",
       "      <td>2</td>\n",
       "      <td>691628</td>\n",
       "      <td>8</td>\n",
       "      <td>6</td>\n",
       "      <td>4</td>\n",
       "      <td>10</td>\n",
       "      <td>10</td>\n",
       "      <td>1</td>\n",
       "      <td>3</td>\n",
       "      <td>5</td>\n",
       "      <td>1</td>\n",
       "      <td>4</td>\n",
       "    </tr>\n",
       "    <tr>\n",
       "      <th>3</th>\n",
       "      <td>3</td>\n",
       "      <td>1226612</td>\n",
       "      <td>7</td>\n",
       "      <td>5</td>\n",
       "      <td>6</td>\n",
       "      <td>3</td>\n",
       "      <td>3</td>\n",
       "      <td>8</td>\n",
       "      <td>7</td>\n",
       "      <td>4</td>\n",
       "      <td>1</td>\n",
       "      <td>4</td>\n",
       "    </tr>\n",
       "    <tr>\n",
       "      <th>4</th>\n",
       "      <td>4</td>\n",
       "      <td>1142706</td>\n",
       "      <td>5</td>\n",
       "      <td>10</td>\n",
       "      <td>10</td>\n",
       "      <td>10</td>\n",
       "      <td>6</td>\n",
       "      <td>10</td>\n",
       "      <td>6</td>\n",
       "      <td>5</td>\n",
       "      <td>2</td>\n",
       "      <td>4</td>\n",
       "    </tr>\n",
       "  </tbody>\n",
       "</table>\n",
       "</div>"
      ],
      "text/plain": [
       "   Index       ID  Clump Thickness Uniformity of Cell Size  \\\n",
       "0      0  1241035                7                       8   \n",
       "1      1  1107684                6                      10   \n",
       "2      2   691628                8                       6   \n",
       "3      3  1226612                7                       5   \n",
       "4      4  1142706                5                      10   \n",
       "\n",
       "  Uniformity of Cell Shape Marginal Adhesion Single Epithelial Cell Size  \\\n",
       "0                        3                 7                           4   \n",
       "1                        5                 5                           4   \n",
       "2                        4                10                          10   \n",
       "3                        6                 3                           3   \n",
       "4                       10                10                           6   \n",
       "\n",
       "  Bare Nuclei Bland Chromatin Normal Nucleoli Mitoses Class  \n",
       "0           5               7               8       2     4  \n",
       "1          10               6              10       1     4  \n",
       "2           1               3               5       1     4  \n",
       "3           8               7               4       1     4  \n",
       "4          10               6               5       2     4  "
      ]
     },
     "execution_count": 86,
     "metadata": {},
     "output_type": "execute_result"
    }
   ],
   "source": [
    "df = pd.read_csv('breast-cancer-wisconsin.txt')\n",
    "df.head()\n"
   ]
  },
  {
   "cell_type": "markdown",
   "metadata": {},
   "source": [
    "We have 15,855 records"
   ]
  },
  {
   "cell_type": "code",
   "execution_count": 87,
   "metadata": {},
   "outputs": [
    {
     "data": {
      "text/plain": [
       "(15855, 12)"
      ]
     },
     "execution_count": 87,
     "metadata": {},
     "output_type": "execute_result"
    }
   ],
   "source": [
    "df.shape"
   ]
  },
  {
   "cell_type": "markdown",
   "metadata": {},
   "source": [
    "What Classes do we have?"
   ]
  },
  {
   "cell_type": "code",
   "execution_count": 88,
   "metadata": {},
   "outputs": [
    {
     "data": {
      "text/plain": [
       "array(['4', '2', 'No idea', '40', nan, '#', '?', '20'], dtype=object)"
      ]
     },
     "execution_count": 88,
     "metadata": {},
     "output_type": "execute_result"
    }
   ],
   "source": [
    "df['Class'].unique()"
   ]
  },
  {
   "cell_type": "markdown",
   "metadata": {},
   "source": [
    "### Eliminate non-relevant classes\n",
    "We are only interested in benign (Class = '2') and malignant (Class = '4') cases\n"
   ]
  },
  {
   "cell_type": "code",
   "execution_count": 89,
   "metadata": {
    "collapsed": true
   },
   "outputs": [],
   "source": [
    "df = df.loc[ df['Class'].isin(['4', '2']) ]"
   ]
  },
  {
   "cell_type": "markdown",
   "metadata": {},
   "source": [
    "Now we have 15620 records"
   ]
  },
  {
   "cell_type": "code",
   "execution_count": 90,
   "metadata": {
    "collapsed": true
   },
   "outputs": [],
   "source": [
    "assert(df.shape == (15620,12))"
   ]
  },
  {
   "cell_type": "code",
   "execution_count": 91,
   "metadata": {},
   "outputs": [
    {
     "data": {
      "text/html": [
       "<div>\n",
       "<style scoped>\n",
       "    .dataframe tbody tr th:only-of-type {\n",
       "        vertical-align: middle;\n",
       "    }\n",
       "\n",
       "    .dataframe tbody tr th {\n",
       "        vertical-align: top;\n",
       "    }\n",
       "\n",
       "    .dataframe thead th {\n",
       "        text-align: right;\n",
       "    }\n",
       "</style>\n",
       "<table border=\"1\" class=\"dataframe\">\n",
       "  <thead>\n",
       "    <tr style=\"text-align: right;\">\n",
       "      <th></th>\n",
       "      <th>Index</th>\n",
       "      <th>ID</th>\n",
       "      <th>Clump Thickness</th>\n",
       "      <th>Uniformity of Cell Size</th>\n",
       "      <th>Uniformity of Cell Shape</th>\n",
       "      <th>Marginal Adhesion</th>\n",
       "      <th>Single Epithelial Cell Size</th>\n",
       "      <th>Bare Nuclei</th>\n",
       "      <th>Bland Chromatin</th>\n",
       "      <th>Normal Nucleoli</th>\n",
       "      <th>Mitoses</th>\n",
       "      <th>Class</th>\n",
       "    </tr>\n",
       "  </thead>\n",
       "  <tbody>\n",
       "    <tr>\n",
       "      <th>0</th>\n",
       "      <td>0</td>\n",
       "      <td>1241035</td>\n",
       "      <td>7</td>\n",
       "      <td>8</td>\n",
       "      <td>3</td>\n",
       "      <td>7</td>\n",
       "      <td>4</td>\n",
       "      <td>5</td>\n",
       "      <td>7</td>\n",
       "      <td>8</td>\n",
       "      <td>2</td>\n",
       "      <td>4</td>\n",
       "    </tr>\n",
       "    <tr>\n",
       "      <th>1</th>\n",
       "      <td>1</td>\n",
       "      <td>1107684</td>\n",
       "      <td>6</td>\n",
       "      <td>10</td>\n",
       "      <td>5</td>\n",
       "      <td>5</td>\n",
       "      <td>4</td>\n",
       "      <td>10</td>\n",
       "      <td>6</td>\n",
       "      <td>10</td>\n",
       "      <td>1</td>\n",
       "      <td>4</td>\n",
       "    </tr>\n",
       "    <tr>\n",
       "      <th>2</th>\n",
       "      <td>2</td>\n",
       "      <td>691628</td>\n",
       "      <td>8</td>\n",
       "      <td>6</td>\n",
       "      <td>4</td>\n",
       "      <td>10</td>\n",
       "      <td>10</td>\n",
       "      <td>1</td>\n",
       "      <td>3</td>\n",
       "      <td>5</td>\n",
       "      <td>1</td>\n",
       "      <td>4</td>\n",
       "    </tr>\n",
       "    <tr>\n",
       "      <th>3</th>\n",
       "      <td>3</td>\n",
       "      <td>1226612</td>\n",
       "      <td>7</td>\n",
       "      <td>5</td>\n",
       "      <td>6</td>\n",
       "      <td>3</td>\n",
       "      <td>3</td>\n",
       "      <td>8</td>\n",
       "      <td>7</td>\n",
       "      <td>4</td>\n",
       "      <td>1</td>\n",
       "      <td>4</td>\n",
       "    </tr>\n",
       "    <tr>\n",
       "      <th>4</th>\n",
       "      <td>4</td>\n",
       "      <td>1142706</td>\n",
       "      <td>5</td>\n",
       "      <td>10</td>\n",
       "      <td>10</td>\n",
       "      <td>10</td>\n",
       "      <td>6</td>\n",
       "      <td>10</td>\n",
       "      <td>6</td>\n",
       "      <td>5</td>\n",
       "      <td>2</td>\n",
       "      <td>4</td>\n",
       "    </tr>\n",
       "  </tbody>\n",
       "</table>\n",
       "</div>"
      ],
      "text/plain": [
       "   Index       ID  Clump Thickness Uniformity of Cell Size  \\\n",
       "0      0  1241035                7                       8   \n",
       "1      1  1107684                6                      10   \n",
       "2      2   691628                8                       6   \n",
       "3      3  1226612                7                       5   \n",
       "4      4  1142706                5                      10   \n",
       "\n",
       "  Uniformity of Cell Shape Marginal Adhesion Single Epithelial Cell Size  \\\n",
       "0                        3                 7                           4   \n",
       "1                        5                 5                           4   \n",
       "2                        4                10                          10   \n",
       "3                        6                 3                           3   \n",
       "4                       10                10                           6   \n",
       "\n",
       "  Bare Nuclei Bland Chromatin Normal Nucleoli Mitoses Class  \n",
       "0           5               7               8       2     4  \n",
       "1          10               6              10       1     4  \n",
       "2           1               3               5       1     4  \n",
       "3           8               7               4       1     4  \n",
       "4          10               6               5       2     4  "
      ]
     },
     "execution_count": 91,
     "metadata": {},
     "output_type": "execute_result"
    }
   ],
   "source": [
    "df.head()\n"
   ]
  },
  {
   "cell_type": "markdown",
   "metadata": {},
   "source": [
    "## Remove missing data\n",
    "Remove rows with missing data"
   ]
  },
  {
   "cell_type": "code",
   "execution_count": 92,
   "metadata": {
    "collapsed": true
   },
   "outputs": [],
   "source": [
    "# Remove Missing Data\n",
    "df = df[~(df['Bare Nuclei'] == '?')]\n",
    "assert(df.shape == (15604,12))\n"
   ]
  },
  {
   "cell_type": "markdown",
   "metadata": {},
   "source": [
    "### Convert to int datatype\n",
    "- Convert all input to int\n",
    "- Convert malignant (4) to label 1, benign (2) as 0"
   ]
  },
  {
   "cell_type": "code",
   "execution_count": 93,
   "metadata": {
    "collapsed": true
   },
   "outputs": [],
   "source": [
    "df = df.astype(int)\n",
    "df['Class'] = df['Class'].apply(lambda x : 1 if x == 4 else 0) #malignant now becomes 1"
   ]
  },
  {
   "cell_type": "code",
   "execution_count": 94,
   "metadata": {},
   "outputs": [
    {
     "data": {
      "text/plain": [
       "1    15162\n",
       "0      442\n",
       "Name: Class, dtype: int64"
      ]
     },
     "execution_count": 94,
     "metadata": {},
     "output_type": "execute_result"
    }
   ],
   "source": [
    "df['Class'].value_counts()\n",
    "#must be 15162 malignant (1) and 442 benign (0)"
   ]
  },
  {
   "cell_type": "code",
   "execution_count": 95,
   "metadata": {
    "collapsed": true
   },
   "outputs": [],
   "source": [
    "MALIGNANT_LABEL = 1\n",
    "BENIGN_LABEL = 0"
   ]
  },
  {
   "cell_type": "markdown",
   "metadata": {},
   "source": [
    "### Shuffle the dataframe"
   ]
  },
  {
   "cell_type": "code",
   "execution_count": 96,
   "metadata": {
    "collapsed": true
   },
   "outputs": [],
   "source": [
    "#Shuffle data (randomize)\n",
    "df = df.sample(frac=1, random_state=7).reset_index(drop=True)\n"
   ]
  },
  {
   "cell_type": "markdown",
   "metadata": {},
   "source": [
    "# Class Imbalance\n",
    "Separate the benigns and malignants. Create co-variance heatmap\n"
   ]
  },
  {
   "cell_type": "code",
   "execution_count": 98,
   "metadata": {},
   "outputs": [
    {
     "data": {
      "text/plain": [
       "1    15162\n",
       "0      442\n",
       "Name: Class, dtype: int64"
      ]
     },
     "execution_count": 98,
     "metadata": {},
     "output_type": "execute_result"
    }
   ],
   "source": [
    "df['Class'].value_counts()\n",
    "#expected\n",
    "#1 15162\n",
    "#0 442\n"
   ]
  },
  {
   "cell_type": "code",
   "execution_count": 99,
   "metadata": {
    "collapsed": true
   },
   "outputs": [],
   "source": [
    "df_majority = df.loc[df['Class'] == MALIGNANT_LABEL] #majority class\n",
    "df_minority = df.loc[ df['Class'] == BENIGN_LABEL ] #minority class\n",
    "\n",
    "n_majority = df_majority.shape[0] #15162\n",
    "n_minority = df_minority.shape[0] #442\n",
    "assert(n_majority == 15162)\n",
    "assert(n_minority == 442)\n"
   ]
  },
  {
   "cell_type": "code",
   "execution_count": 100,
   "metadata": {},
   "outputs": [
    {
     "data": {
      "text/html": [
       "<style  type=\"text/css\" >\n",
       "    #T_eb5a1d9e_a12b_11e9_b9eb_6c96cfde7097row0_col0 {\n",
       "            background-color:  #b40426;\n",
       "        }    #T_eb5a1d9e_a12b_11e9_b9eb_6c96cfde7097row0_col1 {\n",
       "            background-color:  #8badfd;\n",
       "        }    #T_eb5a1d9e_a12b_11e9_b9eb_6c96cfde7097row0_col2 {\n",
       "            background-color:  #8fb1fe;\n",
       "        }    #T_eb5a1d9e_a12b_11e9_b9eb_6c96cfde7097row0_col3 {\n",
       "            background-color:  #3b4cc0;\n",
       "        }    #T_eb5a1d9e_a12b_11e9_b9eb_6c96cfde7097row0_col4 {\n",
       "            background-color:  #96b7ff;\n",
       "        }    #T_eb5a1d9e_a12b_11e9_b9eb_6c96cfde7097row0_col5 {\n",
       "            background-color:  #a3c2fe;\n",
       "        }    #T_eb5a1d9e_a12b_11e9_b9eb_6c96cfde7097row0_col6 {\n",
       "            background-color:  #80a3fa;\n",
       "        }    #T_eb5a1d9e_a12b_11e9_b9eb_6c96cfde7097row0_col7 {\n",
       "            background-color:  #5572df;\n",
       "        }    #T_eb5a1d9e_a12b_11e9_b9eb_6c96cfde7097row0_col8 {\n",
       "            background-color:  #6282ea;\n",
       "        }    #T_eb5a1d9e_a12b_11e9_b9eb_6c96cfde7097row1_col0 {\n",
       "            background-color:  #a1c0ff;\n",
       "        }    #T_eb5a1d9e_a12b_11e9_b9eb_6c96cfde7097row1_col1 {\n",
       "            background-color:  #b40426;\n",
       "        }    #T_eb5a1d9e_a12b_11e9_b9eb_6c96cfde7097row1_col2 {\n",
       "            background-color:  #f7a889;\n",
       "        }    #T_eb5a1d9e_a12b_11e9_b9eb_6c96cfde7097row1_col3 {\n",
       "            background-color:  #8db0fe;\n",
       "        }    #T_eb5a1d9e_a12b_11e9_b9eb_6c96cfde7097row1_col4 {\n",
       "            background-color:  #89acfd;\n",
       "        }    #T_eb5a1d9e_a12b_11e9_b9eb_6c96cfde7097row1_col5 {\n",
       "            background-color:  #cad8ef;\n",
       "        }    #T_eb5a1d9e_a12b_11e9_b9eb_6c96cfde7097row1_col6 {\n",
       "            background-color:  #c1d4f4;\n",
       "        }    #T_eb5a1d9e_a12b_11e9_b9eb_6c96cfde7097row1_col7 {\n",
       "            background-color:  #f6a385;\n",
       "        }    #T_eb5a1d9e_a12b_11e9_b9eb_6c96cfde7097row1_col8 {\n",
       "            background-color:  #3b4cc0;\n",
       "        }    #T_eb5a1d9e_a12b_11e9_b9eb_6c96cfde7097row2_col0 {\n",
       "            background-color:  #afcafc;\n",
       "        }    #T_eb5a1d9e_a12b_11e9_b9eb_6c96cfde7097row2_col1 {\n",
       "            background-color:  #f6a283;\n",
       "        }    #T_eb5a1d9e_a12b_11e9_b9eb_6c96cfde7097row2_col2 {\n",
       "            background-color:  #b40426;\n",
       "        }    #T_eb5a1d9e_a12b_11e9_b9eb_6c96cfde7097row2_col3 {\n",
       "            background-color:  #6282ea;\n",
       "        }    #T_eb5a1d9e_a12b_11e9_b9eb_6c96cfde7097row2_col4 {\n",
       "            background-color:  #80a3fa;\n",
       "        }    #T_eb5a1d9e_a12b_11e9_b9eb_6c96cfde7097row2_col5 {\n",
       "            background-color:  #cbd8ee;\n",
       "        }    #T_eb5a1d9e_a12b_11e9_b9eb_6c96cfde7097row2_col6 {\n",
       "            background-color:  #90b2fe;\n",
       "        }    #T_eb5a1d9e_a12b_11e9_b9eb_6c96cfde7097row2_col7 {\n",
       "            background-color:  #d7dce3;\n",
       "        }    #T_eb5a1d9e_a12b_11e9_b9eb_6c96cfde7097row2_col8 {\n",
       "            background-color:  #5e7de7;\n",
       "        }    #T_eb5a1d9e_a12b_11e9_b9eb_6c96cfde7097row3_col0 {\n",
       "            background-color:  #3b4cc0;\n",
       "        }    #T_eb5a1d9e_a12b_11e9_b9eb_6c96cfde7097row3_col1 {\n",
       "            background-color:  #779af7;\n",
       "        }    #T_eb5a1d9e_a12b_11e9_b9eb_6c96cfde7097row3_col2 {\n",
       "            background-color:  #3b4cc0;\n",
       "        }    #T_eb5a1d9e_a12b_11e9_b9eb_6c96cfde7097row3_col3 {\n",
       "            background-color:  #b40426;\n",
       "        }    #T_eb5a1d9e_a12b_11e9_b9eb_6c96cfde7097row3_col4 {\n",
       "            background-color:  #f3c8b2;\n",
       "        }    #T_eb5a1d9e_a12b_11e9_b9eb_6c96cfde7097row3_col5 {\n",
       "            background-color:  #5470de;\n",
       "        }    #T_eb5a1d9e_a12b_11e9_b9eb_6c96cfde7097row3_col6 {\n",
       "            background-color:  #80a3fa;\n",
       "        }    #T_eb5a1d9e_a12b_11e9_b9eb_6c96cfde7097row3_col7 {\n",
       "            background-color:  #4b64d5;\n",
       "        }    #T_eb5a1d9e_a12b_11e9_b9eb_6c96cfde7097row3_col8 {\n",
       "            background-color:  #6c8ff1;\n",
       "        }    #T_eb5a1d9e_a12b_11e9_b9eb_6c96cfde7097row4_col0 {\n",
       "            background-color:  #b1cbfc;\n",
       "        }    #T_eb5a1d9e_a12b_11e9_b9eb_6c96cfde7097row4_col1 {\n",
       "            background-color:  #90b2fe;\n",
       "        }    #T_eb5a1d9e_a12b_11e9_b9eb_6c96cfde7097row4_col2 {\n",
       "            background-color:  #7a9df8;\n",
       "        }    #T_eb5a1d9e_a12b_11e9_b9eb_6c96cfde7097row4_col3 {\n",
       "            background-color:  #f7bca1;\n",
       "        }    #T_eb5a1d9e_a12b_11e9_b9eb_6c96cfde7097row4_col4 {\n",
       "            background-color:  #b40426;\n",
       "        }    #T_eb5a1d9e_a12b_11e9_b9eb_6c96cfde7097row4_col5 {\n",
       "            background-color:  #3b4cc0;\n",
       "        }    #T_eb5a1d9e_a12b_11e9_b9eb_6c96cfde7097row4_col6 {\n",
       "            background-color:  #a3c2fe;\n",
       "        }    #T_eb5a1d9e_a12b_11e9_b9eb_6c96cfde7097row4_col7 {\n",
       "            background-color:  #6b8df0;\n",
       "        }    #T_eb5a1d9e_a12b_11e9_b9eb_6c96cfde7097row4_col8 {\n",
       "            background-color:  #5977e3;\n",
       "        }    #T_eb5a1d9e_a12b_11e9_b9eb_6c96cfde7097row5_col0 {\n",
       "            background-color:  #bcd2f7;\n",
       "        }    #T_eb5a1d9e_a12b_11e9_b9eb_6c96cfde7097row5_col1 {\n",
       "            background-color:  #cfdaea;\n",
       "        }    #T_eb5a1d9e_a12b_11e9_b9eb_6c96cfde7097row5_col2 {\n",
       "            background-color:  #c7d7f0;\n",
       "        }    #T_eb5a1d9e_a12b_11e9_b9eb_6c96cfde7097row5_col3 {\n",
       "            background-color:  #7597f6;\n",
       "        }    #T_eb5a1d9e_a12b_11e9_b9eb_6c96cfde7097row5_col4 {\n",
       "            background-color:  #3b4cc0;\n",
       "        }    #T_eb5a1d9e_a12b_11e9_b9eb_6c96cfde7097row5_col5 {\n",
       "            background-color:  #b40426;\n",
       "        }    #T_eb5a1d9e_a12b_11e9_b9eb_6c96cfde7097row5_col6 {\n",
       "            background-color:  #b2ccfb;\n",
       "        }    #T_eb5a1d9e_a12b_11e9_b9eb_6c96cfde7097row5_col7 {\n",
       "            background-color:  #5f7fe8;\n",
       "        }    #T_eb5a1d9e_a12b_11e9_b9eb_6c96cfde7097row5_col8 {\n",
       "            background-color:  #4e68d8;\n",
       "        }    #T_eb5a1d9e_a12b_11e9_b9eb_6c96cfde7097row6_col0 {\n",
       "            background-color:  #a6c4fe;\n",
       "        }    #T_eb5a1d9e_a12b_11e9_b9eb_6c96cfde7097row6_col1 {\n",
       "            background-color:  #cedaeb;\n",
       "        }    #T_eb5a1d9e_a12b_11e9_b9eb_6c96cfde7097row6_col2 {\n",
       "            background-color:  #94b6ff;\n",
       "        }    #T_eb5a1d9e_a12b_11e9_b9eb_6c96cfde7097row6_col3 {\n",
       "            background-color:  #a6c4fe;\n",
       "        }    #T_eb5a1d9e_a12b_11e9_b9eb_6c96cfde7097row6_col4 {\n",
       "            background-color:  #adc9fd;\n",
       "        }    #T_eb5a1d9e_a12b_11e9_b9eb_6c96cfde7097row6_col5 {\n",
       "            background-color:  #bad0f8;\n",
       "        }    #T_eb5a1d9e_a12b_11e9_b9eb_6c96cfde7097row6_col6 {\n",
       "            background-color:  #b40426;\n",
       "        }    #T_eb5a1d9e_a12b_11e9_b9eb_6c96cfde7097row6_col7 {\n",
       "            background-color:  #85a8fc;\n",
       "        }    #T_eb5a1d9e_a12b_11e9_b9eb_6c96cfde7097row6_col8 {\n",
       "            background-color:  #4f69d9;\n",
       "        }    #T_eb5a1d9e_a12b_11e9_b9eb_6c96cfde7097row7_col0 {\n",
       "            background-color:  #7a9df8;\n",
       "        }    #T_eb5a1d9e_a12b_11e9_b9eb_6c96cfde7097row7_col1 {\n",
       "            background-color:  #f59d7e;\n",
       "        }    #T_eb5a1d9e_a12b_11e9_b9eb_6c96cfde7097row7_col2 {\n",
       "            background-color:  #d6dce4;\n",
       "        }    #T_eb5a1d9e_a12b_11e9_b9eb_6c96cfde7097row7_col3 {\n",
       "            background-color:  #7295f4;\n",
       "        }    #T_eb5a1d9e_a12b_11e9_b9eb_6c96cfde7097row7_col4 {\n",
       "            background-color:  #7093f3;\n",
       "        }    #T_eb5a1d9e_a12b_11e9_b9eb_6c96cfde7097row7_col5 {\n",
       "            background-color:  #6485ec;\n",
       "        }    #T_eb5a1d9e_a12b_11e9_b9eb_6c96cfde7097row7_col6 {\n",
       "            background-color:  #80a3fa;\n",
       "        }    #T_eb5a1d9e_a12b_11e9_b9eb_6c96cfde7097row7_col7 {\n",
       "            background-color:  #b40426;\n",
       "        }    #T_eb5a1d9e_a12b_11e9_b9eb_6c96cfde7097row7_col8 {\n",
       "            background-color:  #4961d2;\n",
       "        }    #T_eb5a1d9e_a12b_11e9_b9eb_6c96cfde7097row8_col0 {\n",
       "            background-color:  #799cf8;\n",
       "        }    #T_eb5a1d9e_a12b_11e9_b9eb_6c96cfde7097row8_col1 {\n",
       "            background-color:  #3b4cc0;\n",
       "        }    #T_eb5a1d9e_a12b_11e9_b9eb_6c96cfde7097row8_col2 {\n",
       "            background-color:  #4e68d8;\n",
       "        }    #T_eb5a1d9e_a12b_11e9_b9eb_6c96cfde7097row8_col3 {\n",
       "            background-color:  #84a7fc;\n",
       "        }    #T_eb5a1d9e_a12b_11e9_b9eb_6c96cfde7097row8_col4 {\n",
       "            background-color:  #506bda;\n",
       "        }    #T_eb5a1d9e_a12b_11e9_b9eb_6c96cfde7097row8_col5 {\n",
       "            background-color:  #445acc;\n",
       "        }    #T_eb5a1d9e_a12b_11e9_b9eb_6c96cfde7097row8_col6 {\n",
       "            background-color:  #3b4cc0;\n",
       "        }    #T_eb5a1d9e_a12b_11e9_b9eb_6c96cfde7097row8_col7 {\n",
       "            background-color:  #3b4cc0;\n",
       "        }    #T_eb5a1d9e_a12b_11e9_b9eb_6c96cfde7097row8_col8 {\n",
       "            background-color:  #b40426;\n",
       "        }</style>  \n",
       "<table id=\"T_eb5a1d9e_a12b_11e9_b9eb_6c96cfde7097\" > \n",
       "<thead>    <tr> \n",
       "        <th class=\"blank level0\" ></th> \n",
       "        <th class=\"col_heading level0 col0\" >Clump Thickness</th> \n",
       "        <th class=\"col_heading level0 col1\" >Uniformity of Cell Size</th> \n",
       "        <th class=\"col_heading level0 col2\" >Uniformity of Cell Shape</th> \n",
       "        <th class=\"col_heading level0 col3\" >Marginal Adhesion</th> \n",
       "        <th class=\"col_heading level0 col4\" >Single Epithelial Cell Size</th> \n",
       "        <th class=\"col_heading level0 col5\" >Bare Nuclei</th> \n",
       "        <th class=\"col_heading level0 col6\" >Bland Chromatin</th> \n",
       "        <th class=\"col_heading level0 col7\" >Normal Nucleoli</th> \n",
       "        <th class=\"col_heading level0 col8\" >Mitoses</th> \n",
       "    </tr></thead> \n",
       "<tbody>    <tr> \n",
       "        <th id=\"T_eb5a1d9e_a12b_11e9_b9eb_6c96cfde7097level0_row0\" class=\"row_heading level0 row0\" >Clump Thickness</th> \n",
       "        <td id=\"T_eb5a1d9e_a12b_11e9_b9eb_6c96cfde7097row0_col0\" class=\"data row0 col0\" >1</td> \n",
       "        <td id=\"T_eb5a1d9e_a12b_11e9_b9eb_6c96cfde7097row0_col1\" class=\"data row0 col1\" >0.0532796</td> \n",
       "        <td id=\"T_eb5a1d9e_a12b_11e9_b9eb_6c96cfde7097row0_col2\" class=\"data row0 col2\" >0.111818</td> \n",
       "        <td id=\"T_eb5a1d9e_a12b_11e9_b9eb_6c96cfde7097row0_col3\" class=\"data row0 col3\" >-0.363252</td> \n",
       "        <td id=\"T_eb5a1d9e_a12b_11e9_b9eb_6c96cfde7097row0_col4\" class=\"data row0 col4\" >0.119677</td> \n",
       "        <td id=\"T_eb5a1d9e_a12b_11e9_b9eb_6c96cfde7097row0_col5\" class=\"data row0 col5\" >0.164924</td> \n",
       "        <td id=\"T_eb5a1d9e_a12b_11e9_b9eb_6c96cfde7097row0_col6\" class=\"data row0 col6\" >0.0763733</td> \n",
       "        <td id=\"T_eb5a1d9e_a12b_11e9_b9eb_6c96cfde7097row0_col7\" class=\"data row0 col7\" >-0.092438</td> \n",
       "        <td id=\"T_eb5a1d9e_a12b_11e9_b9eb_6c96cfde7097row0_col8\" class=\"data row0 col8\" >-0.0984202</td> \n",
       "    </tr>    <tr> \n",
       "        <th id=\"T_eb5a1d9e_a12b_11e9_b9eb_6c96cfde7097level0_row1\" class=\"row_heading level0 row1\" >Uniformity of Cell Size</th> \n",
       "        <td id=\"T_eb5a1d9e_a12b_11e9_b9eb_6c96cfde7097row1_col0\" class=\"data row1 col0\" >0.0532796</td> \n",
       "        <td id=\"T_eb5a1d9e_a12b_11e9_b9eb_6c96cfde7097row1_col1\" class=\"data row1 col1\" >1</td> \n",
       "        <td id=\"T_eb5a1d9e_a12b_11e9_b9eb_6c96cfde7097row1_col2\" class=\"data row1 col2\" >0.660188</td> \n",
       "        <td id=\"T_eb5a1d9e_a12b_11e9_b9eb_6c96cfde7097row1_col3\" class=\"data row1 col3\" >-0.0174228</td> \n",
       "        <td id=\"T_eb5a1d9e_a12b_11e9_b9eb_6c96cfde7097row1_col4\" class=\"data row1 col4\" >0.0727896</td> \n",
       "        <td id=\"T_eb5a1d9e_a12b_11e9_b9eb_6c96cfde7097row1_col5\" class=\"data row1 col5\" >0.308825</td> \n",
       "        <td id=\"T_eb5a1d9e_a12b_11e9_b9eb_6c96cfde7097row1_col6\" class=\"data row1 col6\" >0.304463</td> \n",
       "        <td id=\"T_eb5a1d9e_a12b_11e9_b9eb_6c96cfde7097row1_col7\" class=\"data row1 col7\" >0.671795</td> \n",
       "        <td id=\"T_eb5a1d9e_a12b_11e9_b9eb_6c96cfde7097row1_col8\" class=\"data row1 col8\" >-0.255565</td> \n",
       "    </tr>    <tr> \n",
       "        <th id=\"T_eb5a1d9e_a12b_11e9_b9eb_6c96cfde7097level0_row2\" class=\"row_heading level0 row2\" >Uniformity of Cell Shape</th> \n",
       "        <td id=\"T_eb5a1d9e_a12b_11e9_b9eb_6c96cfde7097row2_col0\" class=\"data row2 col0\" >0.111818</td> \n",
       "        <td id=\"T_eb5a1d9e_a12b_11e9_b9eb_6c96cfde7097row2_col1\" class=\"data row2 col1\" >0.660188</td> \n",
       "        <td id=\"T_eb5a1d9e_a12b_11e9_b9eb_6c96cfde7097row2_col2\" class=\"data row2 col2\" >1</td> \n",
       "        <td id=\"T_eb5a1d9e_a12b_11e9_b9eb_6c96cfde7097row2_col3\" class=\"data row2 col3\" >-0.1916</td> \n",
       "        <td id=\"T_eb5a1d9e_a12b_11e9_b9eb_6c96cfde7097row2_col4\" class=\"data row2 col4\" >0.0434639</td> \n",
       "        <td id=\"T_eb5a1d9e_a12b_11e9_b9eb_6c96cfde7097row2_col5\" class=\"data row2 col5\" >0.313378</td> \n",
       "        <td id=\"T_eb5a1d9e_a12b_11e9_b9eb_6c96cfde7097row2_col6\" class=\"data row2 col6\" >0.131744</td> \n",
       "        <td id=\"T_eb5a1d9e_a12b_11e9_b9eb_6c96cfde7097row2_col7\" class=\"data row2 col7\" >0.375438</td> \n",
       "        <td id=\"T_eb5a1d9e_a12b_11e9_b9eb_6c96cfde7097row2_col8\" class=\"data row2 col8\" >-0.112872</td> \n",
       "    </tr>    <tr> \n",
       "        <th id=\"T_eb5a1d9e_a12b_11e9_b9eb_6c96cfde7097level0_row3\" class=\"row_heading level0 row3\" >Marginal Adhesion</th> \n",
       "        <td id=\"T_eb5a1d9e_a12b_11e9_b9eb_6c96cfde7097row3_col0\" class=\"data row3 col0\" >-0.363252</td> \n",
       "        <td id=\"T_eb5a1d9e_a12b_11e9_b9eb_6c96cfde7097row3_col1\" class=\"data row3 col1\" >-0.0174228</td> \n",
       "        <td id=\"T_eb5a1d9e_a12b_11e9_b9eb_6c96cfde7097row3_col2\" class=\"data row3 col2\" >-0.1916</td> \n",
       "        <td id=\"T_eb5a1d9e_a12b_11e9_b9eb_6c96cfde7097row3_col3\" class=\"data row3 col3\" >1</td> \n",
       "        <td id=\"T_eb5a1d9e_a12b_11e9_b9eb_6c96cfde7097row3_col4\" class=\"data row3 col4\" >0.528456</td> \n",
       "        <td id=\"T_eb5a1d9e_a12b_11e9_b9eb_6c96cfde7097row3_col5\" class=\"data row3 col5\" >-0.113965</td> \n",
       "        <td id=\"T_eb5a1d9e_a12b_11e9_b9eb_6c96cfde7097row3_col6\" class=\"data row3 col6\" >0.0770483</td> \n",
       "        <td id=\"T_eb5a1d9e_a12b_11e9_b9eb_6c96cfde7097row3_col7\" class=\"data row3 col7\" >-0.126606</td> \n",
       "        <td id=\"T_eb5a1d9e_a12b_11e9_b9eb_6c96cfde7097row3_col8\" class=\"data row3 col8\" >-0.0554153</td> \n",
       "    </tr>    <tr> \n",
       "        <th id=\"T_eb5a1d9e_a12b_11e9_b9eb_6c96cfde7097level0_row4\" class=\"row_heading level0 row4\" >Single Epithelial Cell Size</th> \n",
       "        <td id=\"T_eb5a1d9e_a12b_11e9_b9eb_6c96cfde7097row4_col0\" class=\"data row4 col0\" >0.119677</td> \n",
       "        <td id=\"T_eb5a1d9e_a12b_11e9_b9eb_6c96cfde7097row4_col1\" class=\"data row4 col1\" >0.0727896</td> \n",
       "        <td id=\"T_eb5a1d9e_a12b_11e9_b9eb_6c96cfde7097row4_col2\" class=\"data row4 col2\" >0.0434639</td> \n",
       "        <td id=\"T_eb5a1d9e_a12b_11e9_b9eb_6c96cfde7097row4_col3\" class=\"data row4 col3\" >0.528456</td> \n",
       "        <td id=\"T_eb5a1d9e_a12b_11e9_b9eb_6c96cfde7097row4_col4\" class=\"data row4 col4\" >1</td> \n",
       "        <td id=\"T_eb5a1d9e_a12b_11e9_b9eb_6c96cfde7097row4_col5\" class=\"data row4 col5\" >-0.217674</td> \n",
       "        <td id=\"T_eb5a1d9e_a12b_11e9_b9eb_6c96cfde7097row4_col6\" class=\"data row4 col6\" >0.198993</td> \n",
       "        <td id=\"T_eb5a1d9e_a12b_11e9_b9eb_6c96cfde7097row4_col7\" class=\"data row4 col7\" >-0.00956579</td> \n",
       "        <td id=\"T_eb5a1d9e_a12b_11e9_b9eb_6c96cfde7097row4_col8\" class=\"data row4 col8\" >-0.128378</td> \n",
       "    </tr>    <tr> \n",
       "        <th id=\"T_eb5a1d9e_a12b_11e9_b9eb_6c96cfde7097level0_row5\" class=\"row_heading level0 row5\" >Bare Nuclei</th> \n",
       "        <td id=\"T_eb5a1d9e_a12b_11e9_b9eb_6c96cfde7097row5_col0\" class=\"data row5 col0\" >0.164924</td> \n",
       "        <td id=\"T_eb5a1d9e_a12b_11e9_b9eb_6c96cfde7097row5_col1\" class=\"data row5 col1\" >0.308825</td> \n",
       "        <td id=\"T_eb5a1d9e_a12b_11e9_b9eb_6c96cfde7097row5_col2\" class=\"data row5 col2\" >0.313378</td> \n",
       "        <td id=\"T_eb5a1d9e_a12b_11e9_b9eb_6c96cfde7097row5_col3\" class=\"data row5 col3\" >-0.113965</td> \n",
       "        <td id=\"T_eb5a1d9e_a12b_11e9_b9eb_6c96cfde7097row5_col4\" class=\"data row5 col4\" >-0.217674</td> \n",
       "        <td id=\"T_eb5a1d9e_a12b_11e9_b9eb_6c96cfde7097row5_col5\" class=\"data row5 col5\" >1</td> \n",
       "        <td id=\"T_eb5a1d9e_a12b_11e9_b9eb_6c96cfde7097row5_col6\" class=\"data row5 col6\" >0.246314</td> \n",
       "        <td id=\"T_eb5a1d9e_a12b_11e9_b9eb_6c96cfde7097row5_col7\" class=\"data row5 col7\" >-0.0543458</td> \n",
       "        <td id=\"T_eb5a1d9e_a12b_11e9_b9eb_6c96cfde7097row5_col8\" class=\"data row5 col8\" >-0.17669</td> \n",
       "    </tr>    <tr> \n",
       "        <th id=\"T_eb5a1d9e_a12b_11e9_b9eb_6c96cfde7097level0_row6\" class=\"row_heading level0 row6\" >Bland Chromatin</th> \n",
       "        <td id=\"T_eb5a1d9e_a12b_11e9_b9eb_6c96cfde7097row6_col0\" class=\"data row6 col0\" >0.0763733</td> \n",
       "        <td id=\"T_eb5a1d9e_a12b_11e9_b9eb_6c96cfde7097row6_col1\" class=\"data row6 col1\" >0.304463</td> \n",
       "        <td id=\"T_eb5a1d9e_a12b_11e9_b9eb_6c96cfde7097row6_col2\" class=\"data row6 col2\" >0.131744</td> \n",
       "        <td id=\"T_eb5a1d9e_a12b_11e9_b9eb_6c96cfde7097row6_col3\" class=\"data row6 col3\" >0.0770483</td> \n",
       "        <td id=\"T_eb5a1d9e_a12b_11e9_b9eb_6c96cfde7097row6_col4\" class=\"data row6 col4\" >0.198993</td> \n",
       "        <td id=\"T_eb5a1d9e_a12b_11e9_b9eb_6c96cfde7097row6_col5\" class=\"data row6 col5\" >0.246314</td> \n",
       "        <td id=\"T_eb5a1d9e_a12b_11e9_b9eb_6c96cfde7097row6_col6\" class=\"data row6 col6\" >1</td> \n",
       "        <td id=\"T_eb5a1d9e_a12b_11e9_b9eb_6c96cfde7097row6_col7\" class=\"data row6 col7\" >0.0772254</td> \n",
       "        <td id=\"T_eb5a1d9e_a12b_11e9_b9eb_6c96cfde7097row6_col8\" class=\"data row6 col8\" >-0.170568</td> \n",
       "    </tr>    <tr> \n",
       "        <th id=\"T_eb5a1d9e_a12b_11e9_b9eb_6c96cfde7097level0_row7\" class=\"row_heading level0 row7\" >Normal Nucleoli</th> \n",
       "        <td id=\"T_eb5a1d9e_a12b_11e9_b9eb_6c96cfde7097row7_col0\" class=\"data row7 col0\" >-0.092438</td> \n",
       "        <td id=\"T_eb5a1d9e_a12b_11e9_b9eb_6c96cfde7097row7_col1\" class=\"data row7 col1\" >0.671795</td> \n",
       "        <td id=\"T_eb5a1d9e_a12b_11e9_b9eb_6c96cfde7097row7_col2\" class=\"data row7 col2\" >0.375438</td> \n",
       "        <td id=\"T_eb5a1d9e_a12b_11e9_b9eb_6c96cfde7097row7_col3\" class=\"data row7 col3\" >-0.126606</td> \n",
       "        <td id=\"T_eb5a1d9e_a12b_11e9_b9eb_6c96cfde7097row7_col4\" class=\"data row7 col4\" >-0.00956579</td> \n",
       "        <td id=\"T_eb5a1d9e_a12b_11e9_b9eb_6c96cfde7097row7_col5\" class=\"data row7 col5\" >-0.0543458</td> \n",
       "        <td id=\"T_eb5a1d9e_a12b_11e9_b9eb_6c96cfde7097row7_col6\" class=\"data row7 col6\" >0.0772254</td> \n",
       "        <td id=\"T_eb5a1d9e_a12b_11e9_b9eb_6c96cfde7097row7_col7\" class=\"data row7 col7\" >1</td> \n",
       "        <td id=\"T_eb5a1d9e_a12b_11e9_b9eb_6c96cfde7097row7_col8\" class=\"data row7 col8\" >-0.196118</td> \n",
       "    </tr>    <tr> \n",
       "        <th id=\"T_eb5a1d9e_a12b_11e9_b9eb_6c96cfde7097level0_row8\" class=\"row_heading level0 row8\" >Mitoses</th> \n",
       "        <td id=\"T_eb5a1d9e_a12b_11e9_b9eb_6c96cfde7097row8_col0\" class=\"data row8 col0\" >-0.0984202</td> \n",
       "        <td id=\"T_eb5a1d9e_a12b_11e9_b9eb_6c96cfde7097row8_col1\" class=\"data row8 col1\" >-0.255565</td> \n",
       "        <td id=\"T_eb5a1d9e_a12b_11e9_b9eb_6c96cfde7097row8_col2\" class=\"data row8 col2\" >-0.112872</td> \n",
       "        <td id=\"T_eb5a1d9e_a12b_11e9_b9eb_6c96cfde7097row8_col3\" class=\"data row8 col3\" >-0.0554153</td> \n",
       "        <td id=\"T_eb5a1d9e_a12b_11e9_b9eb_6c96cfde7097row8_col4\" class=\"data row8 col4\" >-0.128378</td> \n",
       "        <td id=\"T_eb5a1d9e_a12b_11e9_b9eb_6c96cfde7097row8_col5\" class=\"data row8 col5\" >-0.17669</td> \n",
       "        <td id=\"T_eb5a1d9e_a12b_11e9_b9eb_6c96cfde7097row8_col6\" class=\"data row8 col6\" >-0.170568</td> \n",
       "        <td id=\"T_eb5a1d9e_a12b_11e9_b9eb_6c96cfde7097row8_col7\" class=\"data row8 col7\" >-0.196118</td> \n",
       "        <td id=\"T_eb5a1d9e_a12b_11e9_b9eb_6c96cfde7097row8_col8\" class=\"data row8 col8\" >1</td> \n",
       "    </tr></tbody> \n",
       "</table> "
      ],
      "text/plain": [
       "<pandas.io.formats.style.Styler at 0x1a1d0b59b0>"
      ]
     },
     "execution_count": 100,
     "metadata": {},
     "output_type": "execute_result"
    }
   ],
   "source": [
    "#exclude Index, ID, Class columns\n",
    "df.loc[:, ~df.columns.isin(['Index', 'ID', 'Class'])].corr().style.background_gradient(cmap='coolwarm')\n"
   ]
  },
  {
   "cell_type": "markdown",
   "metadata": {},
   "source": [
    "### Split into train, test"
   ]
  },
  {
   "cell_type": "code",
   "execution_count": 101,
   "metadata": {
    "collapsed": true
   },
   "outputs": [],
   "source": [
    "getX = lambda df : df.loc[:, ~df.columns.isin(['Index', 'ID', 'Class'])].values.astype(int)\n",
    "getY = lambda df : df.loc[:, 'Class'].values.astype(int)\n",
    "\n",
    "from sklearn.model_selection import train_test_split\n",
    "def create_train_test(minority, majority):\n",
    "    X_minority = getX(minority)\n",
    "    y_minority = getY(minority)\n",
    "    X_majority = getX(majority)\n",
    "    y_majority = getY(majority)\n",
    "    \n",
    "    X_nb, X_tb, y_nb, y_tb = train_test_split(X_minority, y_minority, test_size=0.2, random_state=7)\n",
    "    X_nm, X_tm, y_nm, y_tm = train_test_split(X_majority, y_majority, test_size=0.2, random_state=7)\n",
    "    X_train = np.append(X_nb, X_nm, axis=0)\n",
    "    y_train = np.append(y_nb, y_nm)\n",
    "    X_test = np.append(X_tb, X_tm, axis=0)\n",
    "    y_test = np.append(y_tb, y_tm)\n",
    "    \n",
    "    return X_train, X_test, y_train, y_test\n",
    "\n",
    "X_train, X_test, y_train, y_test = create_train_test(df_minority, df_majority)"
   ]
  },
  {
   "cell_type": "markdown",
   "metadata": {},
   "source": [
    "## Visualize using tSNE\n",
    "This dimensionality reduction shows the presence of a separating surface between the malignant (red) and benign (green) cases. "
   ]
  },
  {
   "cell_type": "code",
   "execution_count": 102,
   "metadata": {
    "collapsed": true
   },
   "outputs": [],
   "source": [
    "tsne=TSNE(n_components=2,random_state=7)\n",
    "Z = tsne.fit_transform(np.append(X_train, X_test, axis=0))"
   ]
  },
  {
   "cell_type": "code",
   "execution_count": 84,
   "metadata": {},
   "outputs": [
    {
     "data": {
      "text/plain": [
       "<matplotlib.text.Text at 0x1a1d0e1438>"
      ]
     },
     "execution_count": 84,
     "metadata": {},
     "output_type": "execute_result"
    },
    {
     "data": {
      "image/png": "[encoded data removed]",
      "text/plain": [
       "<matplotlib.figure.Figure at 0x1a1b817dd8>"
      ]
     },
     "metadata": {
      "needs_background": "light"
     },
     "output_type": "display_data"
    }
   ],
   "source": [
    "g = np.append(y_train == 0, y_test == 0) #benign\n",
    "r = np.append(y_train == 1, y_test == 1)\n",
    "plt.scatter(Z[g,0], Z[g,1], c='g', label='Benign') #benign in green\n",
    "plt.scatter(Z[r,0], Z[r,1], c='r', label='Malignant') #malignant in red\n",
    "plt.legend(loc='upper right', bbox_to_anchor=(1.43,1.04))\n",
    "plt.title('t-Stochastic Neighbourhood Embedding')"
   ]
  },
  {
   "cell_type": "markdown",
   "metadata": {},
   "source": [
    "### Assert shapes and sizes"
   ]
  },
  {
   "cell_type": "code",
   "execution_count": 103,
   "metadata": {
    "collapsed": true
   },
   "outputs": [],
   "source": [
    "assert(X_train.shape[0] == y_train.shape[0])\n",
    "assert(X_test.shape[0] == y_test.shape[0])\n",
    "\n",
    "# must be 12482, 3122\n",
    "assert(X_train.shape[0] == 12482)\n",
    "assert(X_test.shape[0] == 3122)\n",
    "\n",
    "#Train sizes must be 80% of total\n",
    "assert(np.floor(n_minority*0.8) == (y_train == 0).sum()) # 353\n",
    "assert(np.floor(n_majority*0.8) == (y_train == 1).sum()) # 12129\n"
   ]
  },
  {
   "cell_type": "markdown",
   "metadata": {},
   "source": [
    "### Upsample the minority class in training set"
   ]
  },
  {
   "cell_type": "code",
   "execution_count": 104,
   "metadata": {
    "collapsed": true
   },
   "outputs": [],
   "source": [
    "#Upsample minority class (majority)\n",
    "#upsample to match minority class\n",
    "def get_balanced_Xy(X, y):\n",
    "    #majority\n",
    "    X_majority = X[y == MALIGNANT_LABEL]\n",
    "    y_majority = y[y == MALIGNANT_LABEL]\n",
    "        \n",
    "    #minority\n",
    "    X_minority = X[y == BENIGN_LABEL]\n",
    "    y_minority = y[y == BENIGN_LABEL]\n",
    "    \n",
    "    n_count = X_majority.shape[0]\n",
    "    X_min_upsampled, y_min_upsampled = resample(X_minority, y_minority, replace=True, \n",
    "                                                n_samples=n_count, random_state=7)\n",
    "    X_train = np.append(X_majority, X_min_upsampled, axis=0)\n",
    "    y_train = np.append(y_majority, y_min_upsampled)\n",
    "    X_train, y_train = shuffle(X_train, y_train, random_state=7)\n",
    "    return X_train, np.squeeze(y_train)\n",
    "X_train, y_train = get_balanced_Xy(X_train, y_train)"
   ]
  },
  {
   "cell_type": "code",
   "execution_count": 105,
   "metadata": {
    "collapsed": true
   },
   "outputs": [],
   "source": [
    "assert(X_train.shape[0] == y_train.shape[0])\n",
    "assert(X_train.shape[0] == 2*(np.floor(n_majority*0.8))) # 24258 = 2*12129"
   ]
  },
  {
   "cell_type": "markdown",
   "metadata": {},
   "source": [
    "## Logistic Regression Model"
   ]
  },
  {
   "cell_type": "code",
   "execution_count": 106,
   "metadata": {},
   "outputs": [
    {
     "name": "stderr",
     "output_type": "stream",
     "text": [
      "/Users/vmullachery/anaconda/envs/dl3.6/lib/python3.6/site-packages/sklearn/utils/validation.py:475: DataConversionWarning: Data with input dtype int64 was converted to float64 by StandardScaler.\n",
      "  warnings.warn(msg, DataConversionWarning)\n"
     ]
    }
   ],
   "source": [
    "#Learn from training data\n",
    "scaler = StandardScaler().fit(X_train)\n",
    "X_scaled = scaler.transform(X_train)\n",
    "model = LogisticRegression().fit(X=X_scaled, y=y_train)\n"
   ]
  },
  {
   "cell_type": "markdown",
   "metadata": {},
   "source": [
    "### Prediction"
   ]
  },
  {
   "cell_type": "code",
   "execution_count": 109,
   "metadata": {},
   "outputs": [
    {
     "name": "stderr",
     "output_type": "stream",
     "text": [
      "/Users/vmullachery/anaconda/envs/dl3.6/lib/python3.6/site-packages/sklearn/utils/validation.py:475: DataConversionWarning: Data with input dtype int64 was converted to float64 by StandardScaler.\n",
      "  warnings.warn(msg, DataConversionWarning)\n"
     ]
    },
    {
     "data": {
      "text/plain": [
       "0.99679692504804618"
      ]
     },
     "execution_count": 109,
     "metadata": {},
     "output_type": "execute_result"
    }
   ],
   "source": [
    "# Predict\n",
    "X_scaled = scaler.transform(X_test)\n",
    "y_pred = model.predict(X_scaled)\n",
    "accuracy_score(y_test, y_pred)\n",
    "#Expected 0.9967"
   ]
  },
  {
   "cell_type": "code",
   "execution_count": 110,
   "metadata": {},
   "outputs": [
    {
     "data": {
      "text/plain": [
       "3025"
      ]
     },
     "execution_count": 110,
     "metadata": {},
     "output_type": "execute_result"
    }
   ],
   "source": [
    "(y_pred==MALIGNANT_LABEL).sum() #Predicted Malignant\n",
    "#Expected 3025"
   ]
  },
  {
   "cell_type": "code",
   "execution_count": 117,
   "metadata": {},
   "outputs": [
    {
     "data": {
      "text/plain": [
       "[<matplotlib.text.Text at 0x1a1d6b34e0>,\n",
       " <matplotlib.text.Text at 0x1a1d6a9c88>,\n",
       " <matplotlib.text.Text at 0x1a1d78f198>,\n",
       " None]"
      ]
     },
     "execution_count": 117,
     "metadata": {},
     "output_type": "execute_result"
    },
    {
     "data": {
      "image/png": "[encoded data removed]",
      "text/plain": [
       "<matplotlib.figure.Figure at 0x1a1d063c50>"
      ]
     },
     "metadata": {},
     "output_type": "display_data"
    }
   ],
   "source": [
    "#\n",
    "# sklearn confusion matrix has predictions on columns, so we transpose(.T)\n",
    "# Also, sklearn has class labels sorted: 0 first row/col, 1 second row/col\n",
    "# so we use labels=[1,0] since we are interested in the 'Malignant' class\n",
    "# label row first\n",
    "#\n",
    "cm = confusion_matrix(y_test, y_pred, labels=[1, 0]).T\n",
    "\n",
    "cmdf = pd.DataFrame(cm, index=['Malignant', 'Benign'], columns=['Malignant', 'Benign'])\n",
    "sns.set(font_scale=1.6)\n",
    "ax = sns.heatmap(cmdf, annot=True, cmap='Spectral_r', fmt='g')\n",
    "ax.set(xlabel='Reality', ylabel='Prediction', label='large bold', \n",
    "       title='Confusion Matrix for Logistic Regression Model')"
   ]
  },
  {
   "cell_type": "code",
   "execution_count": 118,
   "metadata": {},
   "outputs": [
    {
     "data": {
      "text/plain": [
       "0.9983492901947838"
      ]
     },
     "execution_count": 118,
     "metadata": {},
     "output_type": "execute_result"
    }
   ],
   "source": [
    "from sklearn.metrics import f1_score\n",
    "f1_score(y_test, y_pred, labels=[1,0])"
   ]
  },
  {
   "cell_type": "code",
   "execution_count": 119,
   "metadata": {},
   "outputs": [
    {
     "data": {
      "text/plain": [
       "<matplotlib.text.Text at 0x1a1dea3780>"
      ]
     },
     "execution_count": 119,
     "metadata": {},
     "output_type": "execute_result"
    },
    {
     "data": {
      "image/png": "[encoded data removed]",
      "text/plain": [
       "<matplotlib.figure.Figure at 0x1a1de779b0>"
      ]
     },
     "metadata": {},
     "output_type": "display_data"
    }
   ],
   "source": [
    "column_names = df.columns[~df.columns.isin(['Index', 'ID', 'Class'])]\n",
    "xpos = [20*i for i, _ in enumerate(column_names)]\n",
    "model_coeffs = np.squeeze(model.coef_)\n",
    "plt.figure(figsize=(12,12))\n",
    "plt.bar(xpos, model_coeffs,color='green')\n",
    "display_names = ['\\n'.join(wrap(c,10)) for c in column_names]\n",
    "plt.xticks(xpos, display_names )\n",
    "plt.ylabel('Model Coefficients')"
   ]
  },
  {
   "cell_type": "code",
   "execution_count": 34,
   "metadata": {},
   "outputs": [
    {
     "name": "stderr",
     "output_type": "stream",
     "text": [
      "/Users/vmullachery/anaconda/envs/dl3.6/lib/python3.6/site-packages/sklearn/utils/validation.py:475: DataConversionWarning: Data with input dtype int64 was converted to float64 by StandardScaler.\n",
      "  warnings.warn(msg, DataConversionWarning)\n"
     ]
    },
    {
     "data": {
      "text/plain": [
       "0.9902236447763737"
      ]
     },
     "execution_count": 34,
     "metadata": {},
     "output_type": "execute_result"
    }
   ],
   "source": [
    "X_scaled = scaler.transform(X_test)\n",
    "y_pred_proba = model.predict_proba(X_scaled)\n",
    "y_pred = model.predict(X_scaled)\n",
    "p_mal = [a[1] for a in y_pred_proba] #prob of malignancy\n",
    "#y_pred[-5:], p_mal[-5:]\n",
    "roc_auc_score(y_test, p_mal)"
   ]
  },
  {
   "cell_type": "code",
   "execution_count": 46,
   "metadata": {},
   "outputs": [
    {
     "data": {
      "text/plain": [
       "(3122, 3122, 3, 3, 3)"
      ]
     },
     "execution_count": 46,
     "metadata": {},
     "output_type": "execute_result"
    },
    {
     "data": {
      "image/png": "[encoded data removed]",
      "text/plain": [
       "<matplotlib.figure.Figure at 0x1a1b24beb8>"
      ]
     },
     "metadata": {
      "needs_background": "light"
     },
     "output_type": "display_data"
    }
   ],
   "source": [
    "fpr, tpr, thresholds = roc_curve(y_test, y_pred)\n",
    "plt.plot(fpr, tpr)\n",
    "\n",
    "len(y_pred), len(y_test), len(fpr), len(tpr), len(thresholds)"
   ]
  }
 ],
 "metadata": {
  "kernelspec": {
   "display_name": "Python 3",
   "language": "python",
   "name": "python3"
  },
  "language_info": {
   "codemirror_mode": {
    "name": "ipython",
    "version": 3
   },
   "file_extension": ".py",
   "mimetype": "text/x-python",
   "name": "python",
   "nbconvert_exporter": "python",
   "pygments_lexer": "ipython3",
   "version": "3.6.7"
  }
 },
 "nbformat": 4,
 "nbformat_minor": 1
}
